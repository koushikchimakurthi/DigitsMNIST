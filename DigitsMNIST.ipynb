{
  "nbformat": 4,
  "nbformat_minor": 0,
  "metadata": {
    "colab": {
      "name": "DigitsMNIST",
      "provenance": [],
      "collapsed_sections": [],
      "authorship_tag": "ABX9TyPS7OWNC+WsMav0LQgzhhJ4",
      "include_colab_link": true
    },
    "kernelspec": {
      "name": "python3",
      "display_name": "Python 3"
    }
  },
  "cells": [
    {
      "cell_type": "markdown",
      "metadata": {
        "id": "view-in-github",
        "colab_type": "text"
      },
      "source": [
        "<a href=\"https://colab.research.google.com/github/koushikchimakurthi/DigitsMNIST/blob/master/DigitsMNIST.ipynb\" target=\"_parent\"><img src=\"https://colab.research.google.com/assets/colab-badge.svg\" alt=\"Open In Colab\"/></a>"
      ]
    },
    {
      "cell_type": "code",
      "metadata": {
        "id": "jiwcqvAfIawC",
        "colab_type": "code",
        "colab": {}
      },
      "source": [
        "import numpy as np\n",
        "import pandas as pd\n",
        "import matplotlib.pyplot as plt\n",
        "import tensorflow as tf\n",
        "from tensorflow import keras"
      ],
      "execution_count": null,
      "outputs": []
    },
    {
      "cell_type": "code",
      "metadata": {
        "id": "M_A5XZCiIveX",
        "colab_type": "code",
        "colab": {}
      },
      "source": [
        "import keras.datasets.mnist as mnist\n",
        "(train_data, train_labels), (test_data, test_labels) = mnist.load_data()"
      ],
      "execution_count": null,
      "outputs": []
    },
    {
      "cell_type": "code",
      "metadata": {
        "id": "1YH1o4JaIweD",
        "colab_type": "code",
        "colab": {}
      },
      "source": [
        "train_data = train_data/255.0\n",
        "test_data = test_data/255.0"
      ],
      "execution_count": null,
      "outputs": []
    },
    {
      "cell_type": "code",
      "metadata": {
        "id": "X4tfK6WiQR-E",
        "colab_type": "code",
        "colab": {
          "base_uri": "https://localhost:8080/",
          "height": 282
        },
        "outputId": "2101d227-fa77-4766-c454-8dc52d7afc79"
      },
      "source": [
        "plt.imshow(train_data[0])"
      ],
      "execution_count": null,
      "outputs": [
        {
          "output_type": "execute_result",
          "data": {
            "text/plain": [
              "<matplotlib.image.AxesImage at 0x7f521ab07c88>"
            ]
          },
          "metadata": {
            "tags": []
          },
          "execution_count": 4
        },
        {
          "output_type": "display_data",
          "data": {
            "image/png": "[encoded data removed]",
            "text/plain": [
              "<Figure size 432x288 with 1 Axes>"
            ]
          },
          "metadata": {
            "tags": [],
            "needs_background": "light"
          }
        }
      ]
    },
    {
      "cell_type": "code",
      "metadata": {
        "id": "Gu9CDln-NuQY",
        "colab_type": "code",
        "colab": {}
      },
      "source": [
        "class my_callback(keras.callbacks.Callback):\n",
        "  def on_epoch_end(self, epoch, logs={}):\n",
        "    if logs.get('accuracy')>0.98:\n",
        "      print(\"\\nTraining accuracy touched 98%, stopping training...!\")\n",
        "      self.model.stop_training = True\n"
      ],
      "execution_count": null,
      "outputs": []
    },
    {
      "cell_type": "code",
      "metadata": {
        "id": "MHGqvWAOMy7Q",
        "colab_type": "code",
        "colab": {}
      },
      "source": [
        "def train_model():\n",
        "  model = keras.models.Sequential([keras.layers.Flatten(),\n",
        "                                   keras.layers.Dense(units=512, activation=tf.nn.relu),\n",
        "                                   keras.layers.Dense(units=10, activation=tf.nn.sigmoid)])\n",
        "\n",
        "  model.compile(optimizer = keras.optimizers.Adam(), loss = 'sparse_categorical_crossentropy', metrics=['accuracy'])\n",
        "  model.fit(train_data, train_labels, epochs = 10, callbacks = [my_callback()])\n",
        "  return model"
      ],
      "execution_count": null,
      "outputs": []
    },
    {
      "cell_type": "code",
      "metadata": {
        "id": "Oi32gMg4PwAR",
        "colab_type": "code",
        "colab": {
          "base_uri": "https://localhost:8080/",
          "height": 151
        },
        "outputId": "2b4c1ba7-fb4f-4ff4-eb9a-08df2349edce"
      },
      "source": [
        "model = train_model()"
      ],
      "execution_count": null,
      "outputs": [
        {
          "output_type": "stream",
          "text": [
            "Epoch 1/10\n",
            "1875/1875 [==============================] - 7s 4ms/step - loss: 0.2149 - accuracy: 0.9378\n",
            "Epoch 2/10\n",
            "1875/1875 [==============================] - 6s 3ms/step - loss: 0.0865 - accuracy: 0.9740\n",
            "Epoch 3/10\n",
            "1869/1875 [============================>.] - ETA: 0s - loss: 0.0578 - accuracy: 0.9821\n",
            "Training accuracy touched 98%, stopping training...!\n",
            "1875/1875 [==============================] - 7s 4ms/step - loss: 0.0579 - accuracy: 0.9821\n"
          ],
          "name": "stdout"
        }
      ]
    },
    {
      "cell_type": "code",
      "metadata": {
        "id": "GuN9lLaj2Av7",
        "colab_type": "code",
        "colab": {
          "base_uri": "https://localhost:8080/",
          "height": 50
        },
        "outputId": "dfc7e381-88c7-4c5a-af37-d85c85f8d90b"
      },
      "source": [
        "model.evaluate(test_data, test_labels])"
      ],
      "execution_count": null,
      "outputs": [
        {
          "output_type": "stream",
          "text": [
            "313/313 [==============================] - 1s 2ms/step - loss: 0.0658 - accuracy: 0.9795\n"
          ],
          "name": "stdout"
        },
        {
          "output_type": "execute_result",
          "data": {
            "text/plain": [
              "[0.06576383113861084, 0.9794999957084656]"
            ]
          },
          "metadata": {
            "tags": []
          },
          "execution_count": 8
        }
      ]
    },
    {
      "cell_type": "code",
      "metadata": {
        "id": "JZj7LPIjRn16",
        "colab_type": "code",
        "colab": {}
      },
      "source": [
        "classifications = model.predict(test_data)"
      ],
      "execution_count": null,
      "outputs": []
    },
    {
      "cell_type": "code",
      "metadata": {
        "id": "W1NNn4_RRwWk",
        "colab_type": "code",
        "colab": {
          "base_uri": "https://localhost:8080/",
          "height": 118
        },
        "outputId": "bb75a711-5b58-4dad-caf0-850084a9bbe2"
      },
      "source": [
        "print(classifications[0])\n",
        "prediction = np.where(classifications[0] == np.amax(classifications[0]))\n",
        "print(\"\\nPredicted number is {}\".format(prediction))\n",
        "print(\"\\nOriginal number is {}\".format(test_labels[0]))"
      ],
      "execution_count": null,
      "outputs": [
        {
          "output_type": "stream",
          "text": [
            "[1.3509856e-08 7.0781184e-08 4.1313560e-06 4.9367547e-04 2.0281489e-10\n",
            " 1.2070568e-07 4.0768968e-12 8.7347227e-01 2.3429161e-06 8.2353936e-06]\n",
            "\n",
            "Predicted number is (array([7]),)\n",
            "\n",
            "Original number is 7\n"
          ],
          "name": "stdout"
        }
      ]
    },
    {
      "cell_type": "code",
      "metadata": {
        "id": "YbotPbQvR1SU",
        "colab_type": "code",
        "colab": {
          "base_uri": "https://localhost:8080/",
          "height": 282
        },
        "outputId": "9d44806b-2d90-4e37-fa48-6741204bfdc4"
      },
      "source": [
        "plt.imshow(test_data[0])"
      ],
      "execution_count": null,
      "outputs": [
        {
          "output_type": "execute_result",
          "data": {
            "text/plain": [
              "<matplotlib.image.AxesImage at 0x7f52110e46a0>"
            ]
          },
          "metadata": {
            "tags": []
          },
          "execution_count": 11
        },
        {
          "output_type": "display_data",
          "data": {
            "image/png": "[encoded data removed]",
            "text/plain": [
              "<Figure size 432x288 with 1 Axes>"
            ]
          },
          "metadata": {
            "tags": [],
            "needs_background": "light"
          }
        }
      ]
    },
    {
      "cell_type": "code",
      "metadata": {
        "id": "765P-ncc6qAx",
        "colab_type": "code",
        "colab": {}
      },
      "source": [
        ""
      ],
      "execution_count": null,
      "outputs": []
    }
  ]
}